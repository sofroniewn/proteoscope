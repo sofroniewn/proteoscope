{
 "cells": [
  {
   "cell_type": "code",
   "execution_count": null,
   "metadata": {},
   "outputs": [],
   "source": [
    "# from pybiomart import Dataset as PyBiomartDataset\n",
    "\n",
    "# dataset = PyBiomartDataset(name='hsapiens_gene_ensembl', host='http://www.ensembl.org')\n",
    "# genes_proteins = dataset.query(attributes=['ensembl_gene_id', 'ensembl_peptide_id',\n",
    "#                                             'gene_biotype', 'transcript_is_canonical', 'peptide'], filters={})\n",
    "# # genes_proteins = genes_proteins[genes_proteins['Ensembl Canonical'] == 1.0]\n",
    "# genes_proteins.to_csv('gene2protein.csv')"
   ]
  },
  {
   "cell_type": "code",
   "execution_count": 5,
   "metadata": {},
   "outputs": [],
   "source": [
    "import pandas as pd"
   ]
  },
  {
   "cell_type": "code",
   "execution_count": 6,
   "metadata": {},
   "outputs": [],
   "source": [
    "genes_proteins = pd.read_csv('gene2protein.csv', index_col=0)\n",
    "genes_proteins = genes_proteins[genes_proteins['Ensembl Canonical'] == 1.0]"
   ]
  },
  {
   "cell_type": "code",
   "execution_count": 23,
   "metadata": {},
   "outputs": [],
   "source": [
    "genes_proteins = genes_proteins.set_index('Gene stable ID')"
   ]
  },
  {
   "cell_type": "code",
   "execution_count": 24,
   "metadata": {},
   "outputs": [
    {
     "data": {
      "text/html": [
       "<div>\n",
       "<style scoped>\n",
       "    .dataframe tbody tr th:only-of-type {\n",
       "        vertical-align: middle;\n",
       "    }\n",
       "\n",
       "    .dataframe tbody tr th {\n",
       "        vertical-align: top;\n",
       "    }\n",
       "\n",
       "    .dataframe thead th {\n",
       "        text-align: right;\n",
       "    }\n",
       "</style>\n",
       "<table border=\"1\" class=\"dataframe\">\n",
       "  <thead>\n",
       "    <tr style=\"text-align: right;\">\n",
       "      <th></th>\n",
       "      <th>Peptide</th>\n",
       "      <th>Protein stable ID</th>\n",
       "      <th>Gene type</th>\n",
       "      <th>Ensembl Canonical</th>\n",
       "    </tr>\n",
       "    <tr>\n",
       "      <th>Gene stable ID</th>\n",
       "      <th></th>\n",
       "      <th></th>\n",
       "      <th></th>\n",
       "      <th></th>\n",
       "    </tr>\n",
       "  </thead>\n",
       "  <tbody>\n",
       "    <tr>\n",
       "      <th>ENSG00000001036</th>\n",
       "      <td>MRPQELPRLAFPLLLLLLLLLPPPPCPAHSATRFDPTWESLDARQL...</td>\n",
       "      <td>ENSP00000002165</td>\n",
       "      <td>protein_coding</td>\n",
       "      <td>1.0</td>\n",
       "    </tr>\n",
       "    <tr>\n",
       "      <th>ENSG00000001626</th>\n",
       "      <td>MQRSPLEKASVVSKLFFSWTRPILRKGYRQRLELSDIYQIPSVDSA...</td>\n",
       "      <td>ENSP00000003084</td>\n",
       "      <td>protein_coding</td>\n",
       "      <td>1.0</td>\n",
       "    </tr>\n",
       "    <tr>\n",
       "      <th>ENSG00000003137</th>\n",
       "      <td>MLFEGLDLVSALATLAACLVSVTLLLAVSQQLWQLRWAATRDKSCK...</td>\n",
       "      <td>ENSP00000001146</td>\n",
       "      <td>protein_coding</td>\n",
       "      <td>1.0</td>\n",
       "    </tr>\n",
       "    <tr>\n",
       "      <th>ENSG00000004799</th>\n",
       "      <td>MKAARFVLRSAGSLNGAGLVPREVEHFSRYSPSPLSMKQLLDFGSE...</td>\n",
       "      <td>ENSP00000005178</td>\n",
       "      <td>protein_coding</td>\n",
       "      <td>1.0</td>\n",
       "    </tr>\n",
       "    <tr>\n",
       "      <th>ENSG00000004059</th>\n",
       "      <td>MGLTVSALFSRIFGKKQMRILMVGLDAAGKTTILYKLKLGEIVTTI...</td>\n",
       "      <td>ENSP00000000233</td>\n",
       "      <td>protein_coding</td>\n",
       "      <td>1.0</td>\n",
       "    </tr>\n",
       "    <tr>\n",
       "      <th>...</th>\n",
       "      <td>...</td>\n",
       "      <td>...</td>\n",
       "      <td>...</td>\n",
       "      <td>...</td>\n",
       "    </tr>\n",
       "    <tr>\n",
       "      <th>ENSG00000286080</th>\n",
       "      <td>Sequence unavailable</td>\n",
       "      <td>NaN</td>\n",
       "      <td>lncRNA</td>\n",
       "      <td>1.0</td>\n",
       "    </tr>\n",
       "    <tr>\n",
       "      <th>ENSG00000290192</th>\n",
       "      <td>Sequence unavailable</td>\n",
       "      <td>NaN</td>\n",
       "      <td>lncRNA</td>\n",
       "      <td>1.0</td>\n",
       "    </tr>\n",
       "    <tr>\n",
       "      <th>ENSG00000291307</th>\n",
       "      <td>MEPKARCSDSQRGGPCTNHEPPALEEGGRRHRRARAGSSSGALGLQ...</td>\n",
       "      <td>ENSP00000516626</td>\n",
       "      <td>protein_coding</td>\n",
       "      <td>1.0</td>\n",
       "    </tr>\n",
       "    <tr>\n",
       "      <th>ENSG00000290320</th>\n",
       "      <td>MYFICLNDLRFPKNKTELYFPVKKKHEWANSATGKKRRWRKKRRKE...</td>\n",
       "      <td>ENSP00000515970</td>\n",
       "      <td>protein_coding</td>\n",
       "      <td>1.0</td>\n",
       "    </tr>\n",
       "    <tr>\n",
       "      <th>ENSG00000109794</th>\n",
       "      <td>MKAAVLDLGSLLAKLFETSTAPPAGPSSRPSGGAAAAGSGGSRAGT...</td>\n",
       "      <td>ENSP00000516649</td>\n",
       "      <td>protein_coding</td>\n",
       "      <td>1.0</td>\n",
       "    </tr>\n",
       "  </tbody>\n",
       "</table>\n",
       "<p>69299 rows × 4 columns</p>\n",
       "</div>"
      ],
      "text/plain": [
       "                                                           Peptide  \\\n",
       "Gene stable ID                                                       \n",
       "ENSG00000001036  MRPQELPRLAFPLLLLLLLLLPPPPCPAHSATRFDPTWESLDARQL...   \n",
       "ENSG00000001626  MQRSPLEKASVVSKLFFSWTRPILRKGYRQRLELSDIYQIPSVDSA...   \n",
       "ENSG00000003137  MLFEGLDLVSALATLAACLVSVTLLLAVSQQLWQLRWAATRDKSCK...   \n",
       "ENSG00000004799  MKAARFVLRSAGSLNGAGLVPREVEHFSRYSPSPLSMKQLLDFGSE...   \n",
       "ENSG00000004059  MGLTVSALFSRIFGKKQMRILMVGLDAAGKTTILYKLKLGEIVTTI...   \n",
       "...                                                            ...   \n",
       "ENSG00000286080                               Sequence unavailable   \n",
       "ENSG00000290192                               Sequence unavailable   \n",
       "ENSG00000291307  MEPKARCSDSQRGGPCTNHEPPALEEGGRRHRRARAGSSSGALGLQ...   \n",
       "ENSG00000290320  MYFICLNDLRFPKNKTELYFPVKKKHEWANSATGKKRRWRKKRRKE...   \n",
       "ENSG00000109794  MKAAVLDLGSLLAKLFETSTAPPAGPSSRPSGGAAAAGSGGSRAGT...   \n",
       "\n",
       "                Protein stable ID       Gene type  Ensembl Canonical  \n",
       "Gene stable ID                                                        \n",
       "ENSG00000001036   ENSP00000002165  protein_coding                1.0  \n",
       "ENSG00000001626   ENSP00000003084  protein_coding                1.0  \n",
       "ENSG00000003137   ENSP00000001146  protein_coding                1.0  \n",
       "ENSG00000004799   ENSP00000005178  protein_coding                1.0  \n",
       "ENSG00000004059   ENSP00000000233  protein_coding                1.0  \n",
       "...                           ...             ...                ...  \n",
       "ENSG00000286080               NaN          lncRNA                1.0  \n",
       "ENSG00000290192               NaN          lncRNA                1.0  \n",
       "ENSG00000291307   ENSP00000516626  protein_coding                1.0  \n",
       "ENSG00000290320   ENSP00000515970  protein_coding                1.0  \n",
       "ENSG00000109794   ENSP00000516649  protein_coding                1.0  \n",
       "\n",
       "[69299 rows x 4 columns]"
      ]
     },
     "execution_count": 24,
     "metadata": {},
     "output_type": "execute_result"
    }
   ],
   "source": [
    "genes_proteins"
   ]
  },
  {
   "cell_type": "code",
   "execution_count": 31,
   "metadata": {},
   "outputs": [],
   "source": [
    "from os.path import join\n",
    "\n",
    "\n",
    "datapath = \"/home/ec2-user/cytoself-data\"\n",
    "\n",
    "df = pd.read_csv(join(datapath, \"labels.csv\"), index_col=0)\n",
    "# df.to_csv(join(datapath, \"labels.csv\"))"
   ]
  },
  {
   "cell_type": "code",
   "execution_count": 28,
   "metadata": {},
   "outputs": [],
   "source": [
    "# df['Peptide'] = df['ensg'].map(genes_proteins['Peptide'])\n",
    "# df['Protein stable ID'] = df['ensg'].map(genes_proteins['Protein stable ID'])\n",
    "# df.to_csv(join(datapath, \"labels.csv\"))"
   ]
  },
  {
   "cell_type": "code",
   "execution_count": 37,
   "metadata": {},
   "outputs": [],
   "source": [
    "prots = df[['ensg', 'Peptide']].drop_duplicates().set_index('ensg')\n",
    "prots.to_csv(join(datapath, \"sequences.csv\"))"
   ]
  },
  {
   "cell_type": "code",
   "execution_count": 45,
   "metadata": {},
   "outputs": [
    {
     "data": {
      "text/plain": [
       "ensg\n",
       "ENSG00000075624     375\n",
       "ENSG00000100591     338\n",
       "ENSG00000156735     457\n",
       "ENSG00000229524    1132\n",
       "ENSG00000105401     378\n",
       "                   ... \n",
       "ENSG00000174749     132\n",
       "ENSG00000138439     589\n",
       "ENSG00000116001     386\n",
       "ENSG00000108588     483\n",
       "ENSG00000125912     563\n",
       "Name: Peptide, Length: 1311, dtype: int64"
      ]
     },
     "execution_count": 45,
     "metadata": {},
     "output_type": "execute_result"
    }
   ],
   "source": [
    "prots['Peptide'].str.find('*')"
   ]
  },
  {
   "cell_type": "code",
   "execution_count": 47,
   "metadata": {},
   "outputs": [
    {
     "data": {
      "text/plain": [
       "'MDDDIAALVVDNGSGMCKAGFAGDDAPRAVFPSIVGRPRHQGVMVGMGQKDSYVGDEAQSKRGILTLKYPIEHGIVTNWDDMEKIWHHTFYNELRVAPEEHPVLLTEAPLNPKANREKMTQIMFETFNTPAMYVAIQAVLSLYASGRTTGIVMDSGDGVTHTVPIYEGYALPHAILRLDLAGRDLTDYLMKILTERGYSFTTTAEREIVRDIKEKLCYVALDFEQEMATAASSSSLEKSYELPDGQVITIGNERFRCPEALFQPSFLGMESCGIHETTFNSIMKCDVDIRKDLYANTVLSGGTTMYPGIADRMQKEITALAPSTMKIKIIAPPERKYSVWIGGSILASLSTFQQMWISKQEYDESGPSIVHRKCF*'"
      ]
     },
     "execution_count": 47,
     "metadata": {},
     "output_type": "execute_result"
    }
   ],
   "source": [
    "prots['Peptide'].iloc[0]"
   ]
  },
  {
   "cell_type": "code",
   "execution_count": null,
   "metadata": {},
   "outputs": [],
   "source": []
  }
 ],
 "metadata": {
  "kernelspec": {
   "display_name": "pytorch",
   "language": "python",
   "name": "python3"
  },
  "language_info": {
   "codemirror_mode": {
    "name": "ipython",
    "version": 3
   },
   "file_extension": ".py",
   "mimetype": "text/x-python",
   "name": "python",
   "nbconvert_exporter": "python",
   "pygments_lexer": "ipython3",
   "version": "3.9.13"
  },
  "orig_nbformat": 4
 },
 "nbformat": 4,
 "nbformat_minor": 2
}
