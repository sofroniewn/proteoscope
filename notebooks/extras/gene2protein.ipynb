{
 "cells": [
  {
   "cell_type": "code",
   "execution_count": 3,
   "metadata": {},
   "outputs": [],
   "source": [
    "from pybiomart import Dataset as PyBiomartDataset\n",
    "\n",
    "dataset = PyBiomartDataset(name='hsapiens_gene_ensembl', host='http://www.ensembl.org')\n",
    "genes_proteins = dataset.query(attributes=['ensembl_gene_id', 'ensembl_peptide_id',\n",
    "                                            'gene_biotype', 'transcript_is_canonical', 'peptide'], filters={})\n",
    "#genes_proteins = genes_proteins[genes_proteins['Ensembl Canonical'] == 1.0]\n",
    "genes_proteins.to_csv('/home/ec2-user/cytoself-data/gene2protein.csv')"
   ]
  },
  {
   "cell_type": "code",
   "execution_count": null,
   "metadata": {},
   "outputs": [],
   "source": [
    "import pandas as pd"
   ]
  },
  {
   "cell_type": "code",
   "execution_count": null,
   "metadata": {},
   "outputs": [],
   "source": [
    "genes_proteins = pd.read_csv('/home/ec2-user/cytoself-data/gene2protein.csv', index_col=0)\n",
    "genes_proteins = genes_proteins[genes_proteins['Ensembl Canonical'] == 1.0]"
   ]
  },
  {
   "cell_type": "code",
   "execution_count": null,
   "metadata": {},
   "outputs": [],
   "source": [
    "genes_proteins = genes_proteins.set_index('Gene stable ID')"
   ]
  },
  {
   "cell_type": "code",
   "execution_count": null,
   "metadata": {},
   "outputs": [],
   "source": [
    "genes_proteins"
   ]
  },
  {
   "cell_type": "code",
   "execution_count": null,
   "metadata": {},
   "outputs": [],
   "source": [
    "from os.path import join\n",
    "\n",
    "\n",
    "datapath = \"/home/ec2-user/cytoself-data\"\n",
    "\n",
    "df = pd.read_csv(join(datapath, \"labels.csv\"), index_col=0)"
   ]
  },
  {
   "cell_type": "code",
   "execution_count": null,
   "metadata": {},
   "outputs": [],
   "source": [
    "df['Peptide'] = df['ensg'].map(genes_proteins['Peptide'])\n",
    "df['Protein stable ID'] = df['ensg'].map(genes_proteins['Protein stable ID'])\n",
    "df.to_csv(join(datapath, \"labels.csv\"))"
   ]
  },
  {
   "cell_type": "code",
   "execution_count": null,
   "metadata": {},
   "outputs": [],
   "source": [
    "prots = df[['ensg', 'Peptide']].drop_duplicates().set_index('ensg')\n",
    "prots.to_csv(join(datapath, \"sequences.csv\"))"
   ]
  },
  {
   "cell_type": "code",
   "execution_count": null,
   "metadata": {},
   "outputs": [],
   "source": [
    "prots['Peptide'].str.find('*')"
   ]
  },
  {
   "cell_type": "code",
   "execution_count": null,
   "metadata": {},
   "outputs": [],
   "source": [
    "prots['Peptide'].iloc[0]"
   ]
  },
  {
   "attachments": {},
   "cell_type": "markdown",
   "metadata": {},
   "source": [
    "## Load embeddings"
   ]
  },
  {
   "cell_type": "code",
   "execution_count": 1,
   "metadata": {},
   "outputs": [],
   "source": [
    "import pandas as pd"
   ]
  },
  {
   "cell_type": "code",
   "execution_count": 2,
   "metadata": {},
   "outputs": [],
   "source": [
    "GENE2PROTEIN_PATH = '/home/ec2-user/cytoself-data/sequences.csv'\n",
    "PROTEIN_EMBED_PATH_F = '/home/ec2-user/cytoself-data/ESM_sequence_embeddings_full.zarr'\n",
    "PROTEIN_EMBED_PATH_R = '/home/ec2-user/cytoself-data/ESM_sequence_embeddings_reduced.zarr'"
   ]
  },
  {
   "cell_type": "code",
   "execution_count": 3,
   "metadata": {},
   "outputs": [],
   "source": [
    "df = pd.read_csv(GENE2PROTEIN_PATH)\n",
    "# sequences = df['Peptide']\n",
    "sequences = df['Peptide'].apply(lambda x: x.replace('*', '')).values\n",
    "genes = df.index.values\n",
    "num_genes = len(genes)\n",
    "genes_proteins = df"
   ]
  },
  {
   "cell_type": "code",
   "execution_count": 4,
   "metadata": {},
   "outputs": [],
   "source": [
    "import zarr\n",
    "\n",
    "\n",
    "z_embedding_prot_f = zarr.open(\n",
    "    PROTEIN_EMBED_PATH_F,\n",
    "    mode=\"r\"\n",
    ")\n",
    "\n",
    "z_embedding_prot_r = zarr.open(\n",
    "    PROTEIN_EMBED_PATH_R,\n",
    "    mode=\"r\"\n",
    ")"
   ]
  },
  {
   "cell_type": "code",
   "execution_count": 5,
   "metadata": {},
   "outputs": [
    {
     "data": {
      "text/plain": [
       "array([[ 0.04050937,  0.0092671 ,  0.06806058, ..., -0.24188687,\n",
       "         0.19956455,  0.07856545],\n",
       "       [ 0.04562815, -0.08524852,  0.00493111, ..., -0.10848487,\n",
       "         0.07301189,  0.06637612]], dtype=float32)"
      ]
     },
     "execution_count": 5,
     "metadata": {},
     "output_type": "execute_result"
    }
   ],
   "source": [
    "z_embedding_prot_r[0]"
   ]
  },
  {
   "cell_type": "code",
   "execution_count": 6,
   "metadata": {},
   "outputs": [
    {
     "data": {
      "text/plain": [
       "array([-0.04980165, -0.06002725,  0.03606275, ...,  0.2720689 ,\n",
       "       -0.08399116,  0.01600615], dtype=float32)"
      ]
     },
     "execution_count": 6,
     "metadata": {},
     "output_type": "execute_result"
    }
   ],
   "source": [
    "z_embedding_prot_f[0, 1]"
   ]
  },
  {
   "cell_type": "code",
   "execution_count": 7,
   "metadata": {},
   "outputs": [
    {
     "data": {
      "text/plain": [
       "<zarr.core.Array (1311, 1025, 1280) float32 read-only>"
      ]
     },
     "execution_count": 7,
     "metadata": {},
     "output_type": "execute_result"
    }
   ],
   "source": [
    "z_embedding_prot_f"
   ]
  },
  {
   "cell_type": "code",
   "execution_count": 8,
   "metadata": {},
   "outputs": [],
   "source": [
    "truncation_length = [min(1024, len(s)) for s in sequences]"
   ]
  },
  {
   "cell_type": "code",
   "execution_count": 9,
   "metadata": {},
   "outputs": [],
   "source": [
    "genes_proteins['truncation'] = truncation_length"
   ]
  },
  {
   "cell_type": "code",
   "execution_count": 10,
   "metadata": {},
   "outputs": [
    {
     "data": {
      "text/plain": [
       "375"
      ]
     },
     "execution_count": 10,
     "metadata": {},
     "output_type": "execute_result"
    }
   ],
   "source": [
    "truncation_length[0]"
   ]
  },
  {
   "cell_type": "code",
   "execution_count": 11,
   "metadata": {},
   "outputs": [
    {
     "data": {
      "text/plain": [
       "array([0., 0., 0., ..., 0., 0., 0.], dtype=float32)"
      ]
     },
     "execution_count": 11,
     "metadata": {},
     "output_type": "execute_result"
    }
   ],
   "source": [
    "z_embedding_prot_f[0, 376]"
   ]
  },
  {
   "attachments": {},
   "cell_type": "markdown",
   "metadata": {},
   "source": [
    "## Add labels and trunctation lengths"
   ]
  },
  {
   "cell_type": "code",
   "execution_count": 12,
   "metadata": {},
   "outputs": [],
   "source": [
    "import os\n",
    "\n",
    "datapath = '/home/ec2-user/cytoself-data'\n",
    "labels_path = os.path.join(datapath, 'labels.csv')"
   ]
  },
  {
   "cell_type": "code",
   "execution_count": 13,
   "metadata": {},
   "outputs": [],
   "source": [
    "import pandas as pd\n",
    "\n",
    "df = pd.read_csv(labels_path, index_col=0)"
   ]
  },
  {
   "cell_type": "code",
   "execution_count": 14,
   "metadata": {},
   "outputs": [
    {
     "data": {
      "text/html": [
       "<div>\n",
       "<style scoped>\n",
       "    .dataframe tbody tr th:only-of-type {\n",
       "        vertical-align: middle;\n",
       "    }\n",
       "\n",
       "    .dataframe tbody tr th {\n",
       "        vertical-align: top;\n",
       "    }\n",
       "\n",
       "    .dataframe thead th {\n",
       "        text-align: right;\n",
       "    }\n",
       "</style>\n",
       "<table border=\"1\" class=\"dataframe\">\n",
       "  <thead>\n",
       "    <tr style=\"text-align: right;\">\n",
       "      <th></th>\n",
       "      <th>index</th>\n",
       "      <th>ensg</th>\n",
       "      <th>name</th>\n",
       "      <th>loc_grade1</th>\n",
       "      <th>loc_grade2</th>\n",
       "      <th>loc_grade3</th>\n",
       "      <th>protein_id</th>\n",
       "      <th>FOV_id</th>\n",
       "      <th>split_protein</th>\n",
       "      <th>split_images</th>\n",
       "      <th>label</th>\n",
       "      <th>Peptide</th>\n",
       "      <th>Protein stable ID</th>\n",
       "    </tr>\n",
       "  </thead>\n",
       "  <tbody>\n",
       "    <tr>\n",
       "      <th>0</th>\n",
       "      <td>0</td>\n",
       "      <td>ENSG00000075624</td>\n",
       "      <td>ACTB</td>\n",
       "      <td>membrane;cytoskeleton</td>\n",
       "      <td>cytoplasmic</td>\n",
       "      <td>NaN</td>\n",
       "      <td>2</td>\n",
       "      <td>27979</td>\n",
       "      <td>train</td>\n",
       "      <td>train</td>\n",
       "      <td>0</td>\n",
       "      <td>MDDDIAALVVDNGSGMCKAGFAGDDAPRAVFPSIVGRPRHQGVMVG...</td>\n",
       "      <td>ENSP00000494750</td>\n",
       "    </tr>\n",
       "    <tr>\n",
       "      <th>1</th>\n",
       "      <td>1</td>\n",
       "      <td>ENSG00000075624</td>\n",
       "      <td>ACTB</td>\n",
       "      <td>membrane;cytoskeleton</td>\n",
       "      <td>cytoplasmic</td>\n",
       "      <td>NaN</td>\n",
       "      <td>2</td>\n",
       "      <td>27979</td>\n",
       "      <td>train</td>\n",
       "      <td>train</td>\n",
       "      <td>0</td>\n",
       "      <td>MDDDIAALVVDNGSGMCKAGFAGDDAPRAVFPSIVGRPRHQGVMVG...</td>\n",
       "      <td>ENSP00000494750</td>\n",
       "    </tr>\n",
       "    <tr>\n",
       "      <th>2</th>\n",
       "      <td>2</td>\n",
       "      <td>ENSG00000075624</td>\n",
       "      <td>ACTB</td>\n",
       "      <td>membrane;cytoskeleton</td>\n",
       "      <td>cytoplasmic</td>\n",
       "      <td>NaN</td>\n",
       "      <td>2</td>\n",
       "      <td>27979</td>\n",
       "      <td>train</td>\n",
       "      <td>train</td>\n",
       "      <td>0</td>\n",
       "      <td>MDDDIAALVVDNGSGMCKAGFAGDDAPRAVFPSIVGRPRHQGVMVG...</td>\n",
       "      <td>ENSP00000494750</td>\n",
       "    </tr>\n",
       "    <tr>\n",
       "      <th>3</th>\n",
       "      <td>3</td>\n",
       "      <td>ENSG00000075624</td>\n",
       "      <td>ACTB</td>\n",
       "      <td>membrane;cytoskeleton</td>\n",
       "      <td>cytoplasmic</td>\n",
       "      <td>NaN</td>\n",
       "      <td>2</td>\n",
       "      <td>27979</td>\n",
       "      <td>train</td>\n",
       "      <td>val</td>\n",
       "      <td>0</td>\n",
       "      <td>MDDDIAALVVDNGSGMCKAGFAGDDAPRAVFPSIVGRPRHQGVMVG...</td>\n",
       "      <td>ENSP00000494750</td>\n",
       "    </tr>\n",
       "    <tr>\n",
       "      <th>4</th>\n",
       "      <td>4</td>\n",
       "      <td>ENSG00000075624</td>\n",
       "      <td>ACTB</td>\n",
       "      <td>membrane;cytoskeleton</td>\n",
       "      <td>cytoplasmic</td>\n",
       "      <td>NaN</td>\n",
       "      <td>2</td>\n",
       "      <td>27979</td>\n",
       "      <td>train</td>\n",
       "      <td>train</td>\n",
       "      <td>0</td>\n",
       "      <td>MDDDIAALVVDNGSGMCKAGFAGDDAPRAVFPSIVGRPRHQGVMVG...</td>\n",
       "      <td>ENSP00000494750</td>\n",
       "    </tr>\n",
       "    <tr>\n",
       "      <th>...</th>\n",
       "      <td>...</td>\n",
       "      <td>...</td>\n",
       "      <td>...</td>\n",
       "      <td>...</td>\n",
       "      <td>...</td>\n",
       "      <td>...</td>\n",
       "      <td>...</td>\n",
       "      <td>...</td>\n",
       "      <td>...</td>\n",
       "      <td>...</td>\n",
       "      <td>...</td>\n",
       "      <td>...</td>\n",
       "      <td>...</td>\n",
       "    </tr>\n",
       "    <tr>\n",
       "      <th>1134587</th>\n",
       "      <td>70512</td>\n",
       "      <td>ENSG00000125912</td>\n",
       "      <td>NCLN</td>\n",
       "      <td>er</td>\n",
       "      <td>NaN</td>\n",
       "      <td>vesicles</td>\n",
       "      <td>2039</td>\n",
       "      <td>38864</td>\n",
       "      <td>train</td>\n",
       "      <td>train</td>\n",
       "      <td>1048</td>\n",
       "      <td>MLEEAGEVLENMLKASCLPLGFIVFLPAVLLLVAPPLPAADAAHEF...</td>\n",
       "      <td>ENSP00000246117</td>\n",
       "    </tr>\n",
       "    <tr>\n",
       "      <th>1134588</th>\n",
       "      <td>70513</td>\n",
       "      <td>ENSG00000125912</td>\n",
       "      <td>NCLN</td>\n",
       "      <td>er</td>\n",
       "      <td>NaN</td>\n",
       "      <td>vesicles</td>\n",
       "      <td>2039</td>\n",
       "      <td>38864</td>\n",
       "      <td>train</td>\n",
       "      <td>train</td>\n",
       "      <td>1048</td>\n",
       "      <td>MLEEAGEVLENMLKASCLPLGFIVFLPAVLLLVAPPLPAADAAHEF...</td>\n",
       "      <td>ENSP00000246117</td>\n",
       "    </tr>\n",
       "    <tr>\n",
       "      <th>1134589</th>\n",
       "      <td>70514</td>\n",
       "      <td>ENSG00000125912</td>\n",
       "      <td>NCLN</td>\n",
       "      <td>er</td>\n",
       "      <td>NaN</td>\n",
       "      <td>vesicles</td>\n",
       "      <td>2039</td>\n",
       "      <td>38864</td>\n",
       "      <td>train</td>\n",
       "      <td>val</td>\n",
       "      <td>1048</td>\n",
       "      <td>MLEEAGEVLENMLKASCLPLGFIVFLPAVLLLVAPPLPAADAAHEF...</td>\n",
       "      <td>ENSP00000246117</td>\n",
       "    </tr>\n",
       "    <tr>\n",
       "      <th>1134590</th>\n",
       "      <td>70515</td>\n",
       "      <td>ENSG00000125912</td>\n",
       "      <td>NCLN</td>\n",
       "      <td>er</td>\n",
       "      <td>NaN</td>\n",
       "      <td>vesicles</td>\n",
       "      <td>2039</td>\n",
       "      <td>38864</td>\n",
       "      <td>train</td>\n",
       "      <td>train</td>\n",
       "      <td>1048</td>\n",
       "      <td>MLEEAGEVLENMLKASCLPLGFIVFLPAVLLLVAPPLPAADAAHEF...</td>\n",
       "      <td>ENSP00000246117</td>\n",
       "    </tr>\n",
       "    <tr>\n",
       "      <th>1134591</th>\n",
       "      <td>70516</td>\n",
       "      <td>ENSG00000125912</td>\n",
       "      <td>NCLN</td>\n",
       "      <td>er</td>\n",
       "      <td>NaN</td>\n",
       "      <td>vesicles</td>\n",
       "      <td>2039</td>\n",
       "      <td>38864</td>\n",
       "      <td>train</td>\n",
       "      <td>train</td>\n",
       "      <td>1048</td>\n",
       "      <td>MLEEAGEVLENMLKASCLPLGFIVFLPAVLLLVAPPLPAADAAHEF...</td>\n",
       "      <td>ENSP00000246117</td>\n",
       "    </tr>\n",
       "  </tbody>\n",
       "</table>\n",
       "<p>1134592 rows × 13 columns</p>\n",
       "</div>"
      ],
      "text/plain": [
       "         index             ensg  name             loc_grade1   loc_grade2  \\\n",
       "0            0  ENSG00000075624  ACTB  membrane;cytoskeleton  cytoplasmic   \n",
       "1            1  ENSG00000075624  ACTB  membrane;cytoskeleton  cytoplasmic   \n",
       "2            2  ENSG00000075624  ACTB  membrane;cytoskeleton  cytoplasmic   \n",
       "3            3  ENSG00000075624  ACTB  membrane;cytoskeleton  cytoplasmic   \n",
       "4            4  ENSG00000075624  ACTB  membrane;cytoskeleton  cytoplasmic   \n",
       "...        ...              ...   ...                    ...          ...   \n",
       "1134587  70512  ENSG00000125912  NCLN                     er          NaN   \n",
       "1134588  70513  ENSG00000125912  NCLN                     er          NaN   \n",
       "1134589  70514  ENSG00000125912  NCLN                     er          NaN   \n",
       "1134590  70515  ENSG00000125912  NCLN                     er          NaN   \n",
       "1134591  70516  ENSG00000125912  NCLN                     er          NaN   \n",
       "\n",
       "        loc_grade3  protein_id  FOV_id split_protein split_images  label  \\\n",
       "0              NaN           2   27979         train        train      0   \n",
       "1              NaN           2   27979         train        train      0   \n",
       "2              NaN           2   27979         train        train      0   \n",
       "3              NaN           2   27979         train          val      0   \n",
       "4              NaN           2   27979         train        train      0   \n",
       "...            ...         ...     ...           ...          ...    ...   \n",
       "1134587   vesicles        2039   38864         train        train   1048   \n",
       "1134588   vesicles        2039   38864         train        train   1048   \n",
       "1134589   vesicles        2039   38864         train          val   1048   \n",
       "1134590   vesicles        2039   38864         train        train   1048   \n",
       "1134591   vesicles        2039   38864         train        train   1048   \n",
       "\n",
       "                                                   Peptide Protein stable ID  \n",
       "0        MDDDIAALVVDNGSGMCKAGFAGDDAPRAVFPSIVGRPRHQGVMVG...   ENSP00000494750  \n",
       "1        MDDDIAALVVDNGSGMCKAGFAGDDAPRAVFPSIVGRPRHQGVMVG...   ENSP00000494750  \n",
       "2        MDDDIAALVVDNGSGMCKAGFAGDDAPRAVFPSIVGRPRHQGVMVG...   ENSP00000494750  \n",
       "3        MDDDIAALVVDNGSGMCKAGFAGDDAPRAVFPSIVGRPRHQGVMVG...   ENSP00000494750  \n",
       "4        MDDDIAALVVDNGSGMCKAGFAGDDAPRAVFPSIVGRPRHQGVMVG...   ENSP00000494750  \n",
       "...                                                    ...               ...  \n",
       "1134587  MLEEAGEVLENMLKASCLPLGFIVFLPAVLLLVAPPLPAADAAHEF...   ENSP00000246117  \n",
       "1134588  MLEEAGEVLENMLKASCLPLGFIVFLPAVLLLVAPPLPAADAAHEF...   ENSP00000246117  \n",
       "1134589  MLEEAGEVLENMLKASCLPLGFIVFLPAVLLLVAPPLPAADAAHEF...   ENSP00000246117  \n",
       "1134590  MLEEAGEVLENMLKASCLPLGFIVFLPAVLLLVAPPLPAADAAHEF...   ENSP00000246117  \n",
       "1134591  MLEEAGEVLENMLKASCLPLGFIVFLPAVLLLVAPPLPAADAAHEF...   ENSP00000246117  \n",
       "\n",
       "[1134592 rows x 13 columns]"
      ]
     },
     "execution_count": 14,
     "metadata": {},
     "output_type": "execute_result"
    }
   ],
   "source": [
    "df"
   ]
  },
  {
   "cell_type": "code",
   "execution_count": 15,
   "metadata": {},
   "outputs": [],
   "source": [
    "genes_proteins = genes_proteins.reset_index()\n",
    "genes_proteins = genes_proteins.set_index('ensg')"
   ]
  },
  {
   "cell_type": "code",
   "execution_count": 17,
   "metadata": {},
   "outputs": [],
   "source": [
    "df['seq_embedding_index'] = df['ensg'].map(genes_proteins['index'])\n",
    "df['truncation'] = df['ensg'].map(genes_proteins['truncation'])"
   ]
  },
  {
   "cell_type": "code",
   "execution_count": 18,
   "metadata": {},
   "outputs": [],
   "source": [
    "df.to_csv(os.path.join(datapath, \"labels.csv\"))"
   ]
  },
  {
   "cell_type": "code",
   "execution_count": null,
   "metadata": {},
   "outputs": [],
   "source": []
  },
  {
   "cell_type": "code",
   "execution_count": null,
   "metadata": {},
   "outputs": [],
   "source": []
  }
 ],
 "metadata": {
  "kernelspec": {
   "display_name": "pytorch",
   "language": "python",
   "name": "python3"
  },
  "language_info": {
   "codemirror_mode": {
    "name": "ipython",
    "version": 3
   },
   "file_extension": ".py",
   "mimetype": "text/x-python",
   "name": "python",
   "nbconvert_exporter": "python",
   "pygments_lexer": "ipython3",
   "version": "3.9.13"
  },
  "orig_nbformat": 4
 },
 "nbformat": 4,
 "nbformat_minor": 2
}
