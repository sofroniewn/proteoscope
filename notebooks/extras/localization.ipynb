{
 "cells": [
  {
   "cell_type": "code",
   "execution_count": 2,
   "metadata": {},
   "outputs": [
    {
     "ename": "ModuleNotFoundError",
     "evalue": "No module named 'torchdrug'",
     "output_type": "error",
     "traceback": [
      "\u001b[0;31m---------------------------------------------------------------------------\u001b[0m",
      "\u001b[0;31mModuleNotFoundError\u001b[0m                       Traceback (most recent call last)",
      "\u001b[1;32m/home/ec2-user/proteoscope/notebooks/extras/localization.ipynb Cell 1\u001b[0m in \u001b[0;36m1\n\u001b[0;32m----> <a href='vscode-notebook-cell://ssh-remote%2Baws-ec2-4/home/ec2-user/proteoscope/notebooks/extras/localization.ipynb#W0sdnNjb2RlLXJlbW90ZQ%3D%3D?line=0'>1</a>\u001b[0m \u001b[39mimport\u001b[39;00m \u001b[39mtorchdrug\u001b[39;00m\n",
      "\u001b[0;31mModuleNotFoundError\u001b[0m: No module named 'torchdrug'"
     ]
    }
   ],
   "source": [
    "import torchdrug"
   ]
  },
  {
   "cell_type": "code",
   "execution_count": 6,
   "metadata": {},
   "outputs": [
    {
     "name": "stdout",
     "output_type": "stream",
     "text": [
      "1.13.0\n",
      "11.7\n"
     ]
    }
   ],
   "source": [
    "# To install torchdrug need to know\n",
    "import torch\n",
    "print(torch.__version__)\n",
    "print(torch.version.cuda)"
   ]
  },
  {
   "cell_type": "code",
   "execution_count": 7,
   "metadata": {},
   "outputs": [
    {
     "name": "stdout",
     "output_type": "stream",
     "text": [
      "Looking in links: https://pytorch-geometric.com/whl/torch-1.13.0+cu117.html\n",
      "Collecting torch-scatter\n",
      "  Downloading https://data.pyg.org/whl/torch-1.13.0%2Bcu117/torch_scatter-2.1.1%2Bpt113cu117-cp39-cp39-linux_x86_64.whl (10.1 MB)\n",
      "\u001b[2K     \u001b[90m━━━━━━━━━━━━━━━━━━━━━━━━━━━━━━━━━━━━━━━━\u001b[0m \u001b[32m10.1/10.1 MB\u001b[0m \u001b[31m38.5 MB/s\u001b[0m eta \u001b[36m0:00:00\u001b[0m00:01\u001b[0m0:01\u001b[0m\n",
      "\u001b[?25hCollecting torch-cluster\n",
      "  Downloading https://data.pyg.org/whl/torch-1.13.0%2Bcu117/torch_cluster-1.6.1%2Bpt113cu117-cp39-cp39-linux_x86_64.whl (3.2 MB)\n",
      "\u001b[2K     \u001b[90m━━━━━━━━━━━━━━━━━━━━━━━━━━━━━━━━━━━━━━━━\u001b[0m \u001b[32m3.2/3.2 MB\u001b[0m \u001b[31m16.4 MB/s\u001b[0m eta \u001b[36m0:00:00\u001b[0ma \u001b[36m0:00:01\u001b[0m\n",
      "\u001b[?25hRequirement already satisfied: scipy in /opt/conda/envs/pytorch/lib/python3.9/site-packages (from torch-cluster) (1.8.1)\n",
      "Requirement already satisfied: numpy<1.25.0,>=1.17.3 in /opt/conda/envs/pytorch/lib/python3.9/site-packages (from scipy->torch-cluster) (1.23.4)\n",
      "Installing collected packages: torch-scatter, torch-cluster\n",
      "Successfully installed torch-cluster-1.6.1+pt113cu117 torch-scatter-2.1.1+pt113cu117\n"
     ]
    }
   ],
   "source": [
    "# !pip install torch-scatter torch-cluster -f https://pytorch-geometric.com/whl/torch-1.13.0+cu117.html"
   ]
  },
  {
   "cell_type": "code",
   "execution_count": 10,
   "metadata": {},
   "outputs": [],
   "source": [
    "# !pip install torchdrug"
   ]
  },
  {
   "cell_type": "code",
   "execution_count": 11,
   "metadata": {},
   "outputs": [],
   "source": [
    "from torchdrug import datasets\n",
    "\n",
    "\n",
    "SUBCELLULAR_PATH = \"/home/ec2-user/esm-data/\""
   ]
  },
  {
   "cell_type": "code",
   "execution_count": 12,
   "metadata": {},
   "outputs": [
    {
     "name": "stdout",
     "output_type": "stream",
     "text": [
      "23:36:23   Downloading https://miladeepgraphlearningproteindata.s3.us-east-2.amazonaws.com/peerdata/subcellular_localization.tar.gz to /home/ec2-user/esm-data/subcellular_localization.tar.gz\n",
      "23:36:24   Extracting /home/ec2-user/esm-data/subcellular_localization.tar.gz to /home/ec2-user/esm-data\n"
     ]
    },
    {
     "name": "stderr",
     "output_type": "stream",
     "text": [
      "Constructing proteins from sequences:  10%|█         | 1421/14004 [00:02<00:29, 428.90it/s]/opt/conda/envs/pytorch/lib/python3.9/site-packages/torchdrug/data/protein.py:264: UserWarning: Unknown residue symbol `U`. Treat as glycine\n",
      "  warnings.warn(\"Unknown residue symbol `%s`. Treat as glycine\" % residue)\n",
      "Constructing proteins from sequences:  47%|████▋     | 6640/14004 [00:12<00:18, 396.63it/s]/opt/conda/envs/pytorch/lib/python3.9/site-packages/torchdrug/data/protein.py:264: UserWarning: Unknown residue symbol `X`. Treat as glycine\n",
      "  warnings.warn(\"Unknown residue symbol `%s`. Treat as glycine\" % residue)\n",
      "Constructing proteins from sequences:  57%|█████▋    | 7914/14004 [00:14<00:07, 799.49it/s]/opt/conda/envs/pytorch/lib/python3.9/site-packages/torchdrug/data/protein.py:264: UserWarning: Unknown residue symbol `B`. Treat as glycine\n",
      "  warnings.warn(\"Unknown residue symbol `%s`. Treat as glycine\" % residue)\n",
      "Constructing proteins from sequences:  96%|█████████▋| 13503/14004 [00:24<00:00, 569.64it/s]/opt/conda/envs/pytorch/lib/python3.9/site-packages/torchdrug/data/protein.py:264: UserWarning: Unknown residue symbol `Z`. Treat as glycine\n",
      "  warnings.warn(\"Unknown residue symbol `%s`. Treat as glycine\" % residue)\n",
      "Constructing proteins from sequences: 100%|██████████| 14004/14004 [00:24<00:00, 562.77it/s]\n"
     ]
    }
   ],
   "source": [
    "from torchdrug import transforms\n",
    "from torchdrug import datasets\n",
    "\n",
    "truncate_transform = transforms.TruncateProtein(max_length=1024, random=False)\n",
    "protein_view_transform = transforms.ProteinView(view=\"residue\")\n",
    "transform = transforms.Compose([truncate_transform, protein_view_transform])\n",
    "dataset = datasets.SubcellularLocalization(SUBCELLULAR_PATH, atom_feature=None, bond_feature=None, residue_feature=\"default\", transform=transform)"
   ]
  },
  {
   "cell_type": "code",
   "execution_count": 13,
   "metadata": {},
   "outputs": [
    {
     "data": {
      "text/plain": [
       "{'graph': Protein(num_atom=0, num_bond=0, num_residue=484), 'localization': 0}"
      ]
     },
     "execution_count": 13,
     "metadata": {},
     "output_type": "execute_result"
    }
   ],
   "source": [
    "dataset[0]"
   ]
  },
  {
   "cell_type": "code",
   "execution_count": 14,
   "metadata": {},
   "outputs": [],
   "source": [
    "train_set, valid_set, test_set = dataset.split()"
   ]
  },
  {
   "cell_type": "code",
   "execution_count": 15,
   "metadata": {},
   "outputs": [
    {
     "name": "stdout",
     "output_type": "stream",
     "text": [
      "The label of first sample:  0\n",
      "train samples: 8420, valid samples: 2811, test samples: 2773\n"
     ]
    }
   ],
   "source": [
    "print(\"The label of first sample: \", dataset[0][dataset.target_fields[0]])\n",
    "print(\"train samples: %d, valid samples: %d, test samples: %d\" % (len(train_set), len(valid_set), len(test_set)))"
   ]
  },
  {
   "cell_type": "code",
   "execution_count": 16,
   "metadata": {},
   "outputs": [],
   "source": [
    "prot_seq = dataset[0]['graph'].to_sequence().replace('.', '')"
   ]
  },
  {
   "cell_type": "code",
   "execution_count": 24,
   "metadata": {},
   "outputs": [
    {
     "name": "stderr",
     "output_type": "stream",
     "text": [
      "100%|██████████| 8420/8420 [00:05<00:00, 1614.30it/s]\n",
      "100%|██████████| 2811/2811 [00:01<00:00, 1621.89it/s]\n",
      "100%|██████████| 2773/2773 [00:01<00:00, 1607.89it/s]\n"
     ]
    }
   ],
   "source": [
    "import pandas as pd\n",
    "from tqdm import tqdm\n",
    "\n",
    "seq = []\n",
    "for item in tqdm(train_set):\n",
    "    aa = item['graph'].to_sequence().replace('.', '')\n",
    "    loc = item['localization']\n",
    "    seq.append({'Peptide': aa, 'loc': loc, 'split': 'train'})\n",
    "\n",
    "for item in tqdm(valid_set):\n",
    "    aa = item['graph'].to_sequence().replace('.', '')\n",
    "    loc = item['localization']\n",
    "    seq.append({'Peptide': aa, 'loc': loc, 'split': 'val'})\n",
    "\n",
    "for item in tqdm(test_set):\n",
    "    aa = item['graph'].to_sequence().replace('.', '')\n",
    "    loc = item['localization']\n",
    "    seq.append({'Peptide': aa, 'loc': loc, 'split': 'test'})\n",
    "\n",
    "seq = pd.DataFrame(seq)"
   ]
  },
  {
   "cell_type": "code",
   "execution_count": 25,
   "metadata": {},
   "outputs": [],
   "source": [
    "import os\n",
    "\n",
    "protein_loc_path = os.path.join(SUBCELLULAR_PATH, 'protein_loc.csv')"
   ]
  },
  {
   "cell_type": "code",
   "execution_count": 26,
   "metadata": {},
   "outputs": [],
   "source": [
    "seq.to_csv(protein_loc_path)"
   ]
  },
  {
   "cell_type": "code",
   "execution_count": 27,
   "metadata": {},
   "outputs": [
    {
     "data": {
      "text/plain": [
       "RangeIndex(start=0, stop=14004, step=1)"
      ]
     },
     "execution_count": 27,
     "metadata": {},
     "output_type": "execute_result"
    }
   ],
   "source": [
    "seq.index"
   ]
  },
  {
   "cell_type": "markdown",
   "metadata": {},
   "source": [
    "## Load embeddings and train localization model"
   ]
  },
  {
   "cell_type": "code",
   "execution_count": 32,
   "metadata": {},
   "outputs": [],
   "source": [
    "import pandas as pd\n",
    "import zarr\n",
    "import os\n",
    "import numpy as np\n",
    "\n",
    "\n",
    "protein_loc_path = os.path.join(SUBCELLULAR_PATH, 'protein_loc.csv')\n",
    "protein_embed_path = os.path.join(SUBCELLULAR_PATH, 'esm2_t33_650M_UR50D.zarr')\n",
    "\n",
    "seq = pd.read_csv(protein_loc_path)\n",
    "embed = np.asarray(zarr.open(protein_embed_path))"
   ]
  },
  {
   "cell_type": "code",
   "execution_count": 48,
   "metadata": {},
   "outputs": [],
   "source": [
    "seq[\"Length\"] = (\n",
    "    seq[\"Peptide\"].apply(lambda x: len(x.replace(\"*\", \"\")))\n",
    ")"
   ]
  },
  {
   "cell_type": "code",
   "execution_count": 43,
   "metadata": {},
   "outputs": [
    {
     "data": {
      "text/plain": [
       "0        484\n",
       "1        609\n",
       "2        334\n",
       "3        128\n",
       "4        657\n",
       "        ... \n",
       "13999     67\n",
       "14000     66\n",
       "14001    415\n",
       "14002    183\n",
       "14003    146\n",
       "Name: Peptide, Length: 14004, dtype: int64"
      ]
     },
     "execution_count": 43,
     "metadata": {},
     "output_type": "execute_result"
    }
   ],
   "source": [
    "sequences"
   ]
  },
  {
   "cell_type": "code",
   "execution_count": 29,
   "metadata": {},
   "outputs": [
    {
     "name": "stdout",
     "output_type": "stream",
     "text": [
      "14004\n"
     ]
    }
   ],
   "source": [
    "print(len(seq))"
   ]
  },
  {
   "cell_type": "code",
   "execution_count": 33,
   "metadata": {},
   "outputs": [
    {
     "name": "stdout",
     "output_type": "stream",
     "text": [
      "(14004, 1025, 1280)\n"
     ]
    }
   ],
   "source": [
    "print(embed.shape)"
   ]
  },
  {
   "cell_type": "code",
   "execution_count": 51,
   "metadata": {},
   "outputs": [],
   "source": [
    "mean_embed = np.sum(embed[:, 1:], axis=1) / seq[\"Length\"].values[:, None]"
   ]
  },
  {
   "cell_type": "code",
   "execution_count": 52,
   "metadata": {},
   "outputs": [
    {
     "name": "stdout",
     "output_type": "stream",
     "text": [
      "(14004, 1280)\n"
     ]
    }
   ],
   "source": [
    "print(mean_embed.shape)"
   ]
  },
  {
   "cell_type": "code",
   "execution_count": 55,
   "metadata": {},
   "outputs": [],
   "source": [
    "from sklearn.linear_model import LogisticRegression\n",
    "\n",
    "\n",
    "index = (seq['split'] == 'train').values\n",
    "X_train = mean_embed[index]\n",
    "y_train = seq[index]['loc']\n",
    "\n",
    "index = (seq['split'] == 'val').values\n",
    "X_val = mean_embed[index]\n",
    "y_val = seq[index]['loc']\n",
    "\n",
    "index = (seq['split'] == 'test').values\n",
    "X_test = mean_embed[index]\n",
    "y_test = seq[index]['loc']"
   ]
  },
  {
   "cell_type": "code",
   "execution_count": 56,
   "metadata": {},
   "outputs": [
    {
     "name": "stderr",
     "output_type": "stream",
     "text": [
      "/opt/conda/envs/pytorch/lib/python3.9/site-packages/sklearn/linear_model/_logistic.py:814: ConvergenceWarning: lbfgs failed to converge (status=1):\n",
      "STOP: TOTAL NO. of ITERATIONS REACHED LIMIT.\n",
      "\n",
      "Increase the number of iterations (max_iter) or scale the data as shown in:\n",
      "    https://scikit-learn.org/stable/modules/preprocessing.html\n",
      "Please also refer to the documentation for alternative solver options:\n",
      "    https://scikit-learn.org/stable/modules/linear_model.html#logistic-regression\n",
      "  n_iter_i = _check_optimize_result(\n"
     ]
    }
   ],
   "source": [
    "clf = LogisticRegression(random_state=0).fit(X_train, y_train)"
   ]
  },
  {
   "cell_type": "code",
   "execution_count": 57,
   "metadata": {},
   "outputs": [],
   "source": [
    "y_predict = clf.predict(X_test)"
   ]
  },
  {
   "cell_type": "code",
   "execution_count": 58,
   "metadata": {},
   "outputs": [
    {
     "name": "stdout",
     "output_type": "stream",
     "text": [
      "Accuracy 0.7962495492246664\n"
     ]
    }
   ],
   "source": [
    "from sklearn.metrics import confusion_matrix, accuracy_score\n",
    "\n",
    "acc = accuracy_score(y_test, y_predict)\n",
    "print(f'Accuracy {acc}')\n",
    "\n",
    "cm = confusion_matrix(y_test, y_predict)"
   ]
  },
  {
   "cell_type": "code",
   "execution_count": 61,
   "metadata": {},
   "outputs": [],
   "source": [
    "%matplotlib inline"
   ]
  },
  {
   "cell_type": "code",
   "execution_count": 62,
   "metadata": {},
   "outputs": [
    {
     "data": {
      "text/plain": [
       "<matplotlib.image.AxesImage at 0x7f363e14de50>"
      ]
     },
     "execution_count": 62,
     "metadata": {},
     "output_type": "execute_result"
    },
    {
     "data": {
      "image/png": "[encoded data removed]",
      "text/plain": [
       "<Figure size 640x480 with 1 Axes>"
      ]
     },
     "metadata": {},
     "output_type": "display_data"
    }
   ],
   "source": [
    "import matplotlib.pyplot as plt\n",
    "\n",
    "plt.imshow(cm / cm.sum(axis=1)[:, None])"
   ]
  },
  {
   "cell_type": "code",
   "execution_count": null,
   "metadata": {},
   "outputs": [],
   "source": []
  },
  {
   "cell_type": "code",
   "execution_count": null,
   "metadata": {},
   "outputs": [],
   "source": []
  },
  {
   "cell_type": "markdown",
   "metadata": {},
   "source": [
    "## Images"
   ]
  },
  {
   "cell_type": "code",
   "execution_count": null,
   "metadata": {},
   "outputs": [],
   "source": []
  }
 ],
 "metadata": {
  "kernelspec": {
   "display_name": "pytorch",
   "language": "python",
   "name": "python3"
  },
  "language_info": {
   "codemirror_mode": {
    "name": "ipython",
    "version": 3
   },
   "file_extension": ".py",
   "mimetype": "text/x-python",
   "name": "python",
   "nbconvert_exporter": "python",
   "pygments_lexer": "ipython3",
   "version": "3.9.13"
  },
  "orig_nbformat": 4
 },
 "nbformat": 4,
 "nbformat_minor": 2
}
