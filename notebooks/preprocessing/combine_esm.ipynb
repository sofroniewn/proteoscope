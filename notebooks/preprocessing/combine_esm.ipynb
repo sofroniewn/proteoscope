{
 "cells": [
  {
   "cell_type": "code",
   "execution_count": 4,
   "metadata": {},
   "outputs": [],
   "source": [
    "import pandas as pd\n",
    "from dataclasses import dataclass\n",
    "import torch\n",
    "import os\n",
    "\n",
    "@dataclass\n",
    "class ModelConfig:\n",
    "    name: str\n",
    "    embedding_layer: int\n",
    "    embed_dim: int\n",
    "    tokens_per_batch: int\n",
    "    truncation_seq_length: int\n",
    "\n",
    "\n",
    "GENE2PROTEIN_PATH = \"/home/ec2-user/cytoself-data/sequences.csv\"\n",
    "PROTEIN_EMBED_PATH = \"/home/ec2-user/cytoself-data/\"\n",
    "\n",
    "# GENE2PROTEIN_PATH = \"/home/ec2-user/esm-data/protein_loc.csv\"\n",
    "# PROTEIN_EMBED_PATH = \"/home/ec2-user/esm-data/\"\n",
    "\n",
    "# model_config = ModelConfig(\n",
    "#     name=\"esm2_t33_650M_UR50D\",\n",
    "#     embedding_layer=32, # 33\n",
    "#     embed_dim=1280,\n",
    "#     tokens_per_batch=1024,\n",
    "#     truncation_seq_length=1024\n",
    "# )\n",
    "\n",
    "model_config = ModelConfig(\n",
    "    name=\"esm2_t36_3B_UR50D\",\n",
    "    embedding_layer=34,\n",
    "    embed_dim=2560,\n",
    "    tokens_per_batch=1024,\n",
    "    truncation_seq_length=1024\n",
    ")\n",
    "\n",
    "gene_to_protein = pd.read_csv(GENE2PROTEIN_PATH)\n",
    "num_genes = len(gene_to_protein)\n",
    "\n",
    "output_dir = os.path.join(PROTEIN_EMBED_PATH, f'{model_config.name}_{model_config.embedding_layer}')\n",
    "files = sorted([os.path.join(output_dir, f) for f in os.listdir(output_dir)])"
   ]
  },
  {
   "cell_type": "code",
   "execution_count": 5,
   "metadata": {},
   "outputs": [],
   "source": [
    "import zarr\n",
    "\n",
    "\n",
    "z_embedding_prot = zarr.open(\n",
    "    os.path.join(PROTEIN_EMBED_PATH, f'{model_config.name}_{model_config.embedding_layer}.zarr'),\n",
    "    mode=\"w\",\n",
    "        shape=(num_genes, model_config.truncation_seq_length + 1, model_config.embed_dim),\n",
    "        chunks=(1, None, None),\n",
    "    dtype=\"float32\",\n",
    ")"
   ]
  },
  {
   "cell_type": "code",
   "execution_count": 6,
   "metadata": {},
   "outputs": [
    {
     "ename": "",
     "evalue": "",
     "output_type": "error",
     "traceback": [
      "\u001b[1;31mThe Kernel crashed while executing code in the the current cell or a previous cell. Please review the code in the cell(s) to identify a possible cause of the failure. Click <a href='https://aka.ms/vscodeJupyterKernelCrash'>here</a> for more info. View Jupyter <a href='command:jupyter.viewOutput'>log</a> for further details."
     ]
    }
   ],
   "source": [
    "for file in files:\n",
    "    labels, strs, representations = torch.load(file)\n",
    "    # Save data for each protein\n",
    "    for i, label in enumerate(labels):\n",
    "        index = gene_to_protein.index.get_loc(label)\n",
    "        truncate_len = min(model_config.truncation_seq_length, len(strs[i]))\n",
    "        z_embedding_prot[index, : truncate_len + 1] = (\n",
    "            representations[i, : truncate_len + 1].detach().cpu().numpy()\n",
    "        )"
   ]
  },
  {
   "cell_type": "code",
   "execution_count": null,
   "metadata": {},
   "outputs": [],
   "source": []
  }
 ],
 "metadata": {
  "kernelspec": {
   "display_name": "pytorch",
   "language": "python",
   "name": "python3"
  },
  "language_info": {
   "codemirror_mode": {
    "name": "ipython",
    "version": 3
   },
   "file_extension": ".py",
   "mimetype": "text/x-python",
   "name": "python",
   "nbconvert_exporter": "python",
   "pygments_lexer": "ipython3",
   "version": "3.9.13"
  },
  "orig_nbformat": 4
 },
 "nbformat": 4,
 "nbformat_minor": 2
}
